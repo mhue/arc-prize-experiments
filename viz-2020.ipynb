{
 "cells": [
  {
   "cell_type": "markdown",
   "id": "b993876b-8bf0-4c8a-aadf-b098fc75f797",
   "metadata": {},
   "source": [
    "Visualisation of the 2020 benchmark,\n",
    "and verification that the 2024 data are identical.\n",
    "\n",
    "There are identical."
   ]
  },
  {
   "cell_type": "code",
   "execution_count": 38,
   "id": "ddffb272-1db9-4866-805d-255c70bcfda4",
   "metadata": {
    "tags": []
   },
   "outputs": [],
   "source": [
    "import json"
   ]
  },
  {
   "cell_type": "code",
   "execution_count": 39,
   "id": "4569cf88-4f40-47f7-b046-fb60d12dfd18",
   "metadata": {
    "tags": []
   },
   "outputs": [
    {
     "name": "stdout",
     "output_type": "stream",
     "text": [
      "\u001b[1m\u001b[36mevaluation\u001b[m\u001b[m            \u001b[1m\u001b[36mtest\u001b[m\u001b[m\n",
      "sample_submission.csv \u001b[1m\u001b[36mtraining\u001b[m\u001b[m\n"
     ]
    }
   ],
   "source": [
    "! ls 2020/"
   ]
  },
  {
   "cell_type": "code",
   "execution_count": 40,
   "id": "12669fb8-157c-4807-90a1-eaf94dc6c40d",
   "metadata": {
    "tags": []
   },
   "outputs": [
    {
     "name": "stdout",
     "output_type": "stream",
     "text": [
      "     400\n",
      "     400\n",
      "     100\n"
     ]
    }
   ],
   "source": [
    "! ls 2020/training/*.json | wc -l \n",
    "! ls 2020/evaluation/*.json | wc -l \n",
    "! ls 2020/test/*.json | wc -l "
   ]
  },
  {
   "cell_type": "code",
   "execution_count": 41,
   "id": "f61959bc-b434-4c11-909e-294822f4f610",
   "metadata": {
    "tags": []
   },
   "outputs": [],
   "source": [
    "import os"
   ]
  },
  {
   "cell_type": "code",
   "execution_count": 4,
   "id": "6487e5c9-6d56-4c3a-84d1-d3dcb250cc03",
   "metadata": {
    "tags": []
   },
   "outputs": [],
   "source": [
    "path_tr = '2020/training/'"
   ]
  },
  {
   "cell_type": "code",
   "execution_count": 7,
   "id": "f4853cbb-eb5e-4ec9-89e2-9eafb9af1039",
   "metadata": {
    "tags": []
   },
   "outputs": [],
   "source": [
    "tr_ids = [f.split('.')[0] for f in os.listdir(path_tr)]"
   ]
  },
  {
   "cell_type": "code",
   "execution_count": 8,
   "id": "da0261e1-c7f3-49f2-90c2-1b7640f0aad8",
   "metadata": {
    "collapsed": true,
    "jupyter": {
     "outputs_hidden": true
    },
    "tags": []
   },
   "outputs": [
    {
     "data": {
      "text/plain": [
       "['a85d4709',\n",
       " 'c8cbb738',\n",
       " '8e1813be',\n",
       " 'a699fb00',\n",
       " '5c2c9af4',\n",
       " '44f52bb0',\n",
       " '23581191',\n",
       " '94f9d214',\n",
       " 'f9012d9b',\n",
       " '4258a5f9',\n",
       " 'bdad9b1f',\n",
       " 'd06dbe63',\n",
       " '8403a5d5',\n",
       " '67e8384a',\n",
       " '8731374e',\n",
       " '25ff71a9',\n",
       " 'ecdecbb3',\n",
       " '6e19193c',\n",
       " '39e1d7f9',\n",
       " 'ba97ae07',\n",
       " '99b1bc43',\n",
       " '77fdfe62',\n",
       " '50cb2852',\n",
       " '4c5c2cf0',\n",
       " 'd5d6de2d',\n",
       " 'b91ae062',\n",
       " 'd037b0a7',\n",
       " '93b581b8',\n",
       " '025d127b',\n",
       " 'd2abd087',\n",
       " '017c7c7b',\n",
       " '28bf18c6',\n",
       " '9f236235',\n",
       " 'c3e719e8',\n",
       " '264363fd',\n",
       " '6855a6e4',\n",
       " 'f8c80d96',\n",
       " '7837ac64',\n",
       " 'a68b268e',\n",
       " '5c0a986e',\n",
       " '890034e9',\n",
       " '6773b310',\n",
       " '49d1d64f',\n",
       " '6cdd2623',\n",
       " '36d67576',\n",
       " 'ed36ccf7',\n",
       " 'd8c310e9',\n",
       " '1f876c06',\n",
       " 'b60334d2',\n",
       " '6c434453',\n",
       " '810b9b61',\n",
       " '1c786137',\n",
       " '74dd1130',\n",
       " 'ded97339',\n",
       " 'aedd82e4',\n",
       " '5614dbcf',\n",
       " 'd22278a0',\n",
       " 'd406998b',\n",
       " 'a5313dff',\n",
       " '6150a2bd',\n",
       " '97a05b5b',\n",
       " 'dbc1a6ce',\n",
       " '3bd67248',\n",
       " 'e9afcf9a',\n",
       " 'd364b489',\n",
       " '2013d3e2',\n",
       " '2dc579da',\n",
       " 'ec883f72',\n",
       " '2281f1f4',\n",
       " '68b16354',\n",
       " 'a78176bb',\n",
       " '1a07d186',\n",
       " '32597951',\n",
       " 'be94b721',\n",
       " 'cf98881b',\n",
       " '6455b5f5',\n",
       " '54d9e175',\n",
       " '363442ee',\n",
       " '91714a58',\n",
       " 'a1570a43',\n",
       " 'a87f7484',\n",
       " '6430c8c4',\n",
       " '90f3ed37',\n",
       " 'a5f85a15',\n",
       " '95990924',\n",
       " 'c909285e',\n",
       " 'a3325580',\n",
       " 'b94a9452',\n",
       " 'd631b094',\n",
       " '539a4f51',\n",
       " '6d0aefbc',\n",
       " 'e179c5f4',\n",
       " '623ea044',\n",
       " 'a8c38be5',\n",
       " '72322fa7',\n",
       " '29623171',\n",
       " 'd13f3404',\n",
       " '6e82a1ae',\n",
       " 'b548a754',\n",
       " '7ddcd7ec',\n",
       " '7468f01a',\n",
       " '29c11459',\n",
       " '2dd70a9a',\n",
       " 'db3e9e38',\n",
       " '8f2ea7aa',\n",
       " '6fa7a44f',\n",
       " '776ffc46',\n",
       " 'cbded52d',\n",
       " '97999447',\n",
       " '846bdb03',\n",
       " '8d510a79',\n",
       " 'f25ffba3',\n",
       " 'c1d99e64',\n",
       " '25d487eb',\n",
       " '484b58aa',\n",
       " 'ddf7fa4f',\n",
       " '3906de3d',\n",
       " '7447852a',\n",
       " 'c9f8e694',\n",
       " 'e3497940',\n",
       " '46442a0e',\n",
       " 'c3f564a4',\n",
       " 'd0f5fe59',\n",
       " '4290ef0e',\n",
       " 'd6ad076f',\n",
       " 'db93a21d',\n",
       " '67a423a3',\n",
       " '1190e5a7',\n",
       " '6e02f1e3',\n",
       " 'b190f7f5',\n",
       " 'f76d97a5',\n",
       " '3af2c5a8',\n",
       " '239be575',\n",
       " 'b8cdaf2b',\n",
       " 'dc0a314f',\n",
       " 'dc433765',\n",
       " '1e0a9b12',\n",
       " '10fcaaa3',\n",
       " '56dc2b01',\n",
       " '4093f84a',\n",
       " '508bd3b6',\n",
       " '62c24649',\n",
       " 'de1cd16c',\n",
       " '913fb3ed',\n",
       " '662c240a',\n",
       " 'fafffa47',\n",
       " '7e0986d6',\n",
       " '941d9a10',\n",
       " '6b9890af',\n",
       " 'ff28f65a',\n",
       " '80af3007',\n",
       " 'b27ca6d3',\n",
       " 'f8b3ba0a',\n",
       " '150deff5',\n",
       " '952a094c',\n",
       " '1b2d62fb',\n",
       " '928ad970',\n",
       " 'd89b689b',\n",
       " '3de23699',\n",
       " 'e21d9049',\n",
       " 'ba26e723',\n",
       " '6a1e5592',\n",
       " '39a8645d',\n",
       " '56ff96f3',\n",
       " 'a2fd1cf0',\n",
       " 'a9f96cdd',\n",
       " 'ae4f1146',\n",
       " '22233c11',\n",
       " '780d0b14',\n",
       " '3e980e27',\n",
       " '1e32b0e9',\n",
       " '7f4411dc',\n",
       " '4347f46a',\n",
       " '6aa20dc0',\n",
       " '253bf280',\n",
       " 'a8d7556c',\n",
       " '1f85a75f',\n",
       " 'ce4f8723',\n",
       " '05f2a901',\n",
       " '3c9b0459',\n",
       " '90c28cc7',\n",
       " '2dee498d',\n",
       " '3ac3eb23',\n",
       " '5168d44c',\n",
       " 'f1cefba8',\n",
       " 'a3df8b1e',\n",
       " 'e6721834',\n",
       " '6d0160f0',\n",
       " '6cf79266',\n",
       " 'cce03e0d',\n",
       " '7b6016b9',\n",
       " '6d75e8bb',\n",
       " 'e9614598',\n",
       " '08ed6ac7',\n",
       " '67385a82',\n",
       " '22eb0ac0',\n",
       " '25d8a9c8',\n",
       " 'bda2d7a6',\n",
       " 'b775ac94',\n",
       " 'd43fd935',\n",
       " 'cdecee7f',\n",
       " 'c9e6f938',\n",
       " '9565186b',\n",
       " '1b60fb0c',\n",
       " 'fcc82909',\n",
       " '178fcbfb',\n",
       " '72ca375d',\n",
       " '4be741c5',\n",
       " '3bdb4ada',\n",
       " '27a28665',\n",
       " '0520fde7',\n",
       " 'f5b8619d',\n",
       " 'a61f2674',\n",
       " '5521c0d9',\n",
       " '1caeab9d',\n",
       " '3befdf3e',\n",
       " 'ea32f347',\n",
       " 'e8dc4411',\n",
       " '4c4377d9',\n",
       " '91413438',\n",
       " 'b2862040',\n",
       " '469497ad',\n",
       " 'd10ecb37',\n",
       " '1f0c79e5',\n",
       " 'eb281b96',\n",
       " 'c8f0f002',\n",
       " 'e76a88a6',\n",
       " 'bc1d5164',\n",
       " '88a10436',\n",
       " '6d58a25d',\n",
       " 'eb5a1d5d',\n",
       " '760b3cac',\n",
       " 'ce22a75a',\n",
       " 'a65b410d',\n",
       " '5582e5ca',\n",
       " '0b148d64',\n",
       " 'e98196ab',\n",
       " '73251a56',\n",
       " '0a938d79',\n",
       " 'e48d4e1a',\n",
       " 'c0f76784',\n",
       " '4522001f',\n",
       " 'd4469b4b',\n",
       " 'caa06a1f',\n",
       " '7fe24cdd',\n",
       " '447fd412',\n",
       " 'd23f8c26',\n",
       " '321b1fc6',\n",
       " '4938f0c2',\n",
       " '82819916',\n",
       " 'e8593010',\n",
       " '85c4e7cd',\n",
       " '445eab21',\n",
       " '42a50994',\n",
       " 'bd4472b8',\n",
       " '28e73c20',\n",
       " '54d82841',\n",
       " 'b230c067',\n",
       " '67a3c6ac',\n",
       " 'a48eeaf7',\n",
       " 'ce9e57f2',\n",
       " '855e0971',\n",
       " '5ad4f10b',\n",
       " 'feca6190',\n",
       " '234bbc79',\n",
       " '7df24a62',\n",
       " 'a416b8f3',\n",
       " 'a740d043',\n",
       " 'ef135b50',\n",
       " '681b3aeb',\n",
       " '50846271',\n",
       " '794b24be',\n",
       " '75b8110e',\n",
       " '09629e4f',\n",
       " 'b7249182',\n",
       " '1f642eb9',\n",
       " 'ac0a08a4',\n",
       " '8efcae92',\n",
       " '9ecd008a',\n",
       " '5daaa586',\n",
       " '1fad071e',\n",
       " 'a61ba2ce',\n",
       " 'ce602527',\n",
       " '543a7ed5',\n",
       " '3eda0437',\n",
       " 'd07ae81c',\n",
       " 'f8ff0b80',\n",
       " '83302e8f',\n",
       " 'b1948b0a',\n",
       " '1cf80156',\n",
       " '963e52fc',\n",
       " '3618c87e',\n",
       " 'd9fac9be',\n",
       " '007bbfb7',\n",
       " 'b8825c91',\n",
       " '6f8cd79b',\n",
       " '47c1f68c',\n",
       " 'd90796e8',\n",
       " 'dc1df850',\n",
       " 'af902bf9',\n",
       " '2c608aff',\n",
       " '834ec97d',\n",
       " '8eb1be9a',\n",
       " 'e50d258f',\n",
       " '48d8fb45',\n",
       " '3aa6fb7a',\n",
       " '0ca9ddb6',\n",
       " '05269061',\n",
       " 'c59eb873',\n",
       " '0dfd9992',\n",
       " '868de0fa',\n",
       " 'ff805c23',\n",
       " '40853293',\n",
       " '63613498',\n",
       " 'b0c4d837',\n",
       " '36fdfd69',\n",
       " '5117e062',\n",
       " 'd4a91cb9',\n",
       " '746b3537',\n",
       " '3428a4f5',\n",
       " 'bb43febb',\n",
       " '60b61512',\n",
       " 'ea786f4a',\n",
       " '9dfd6313',\n",
       " 'd511f180',\n",
       " '9edfc990',\n",
       " 'aba27056',\n",
       " 'ae3edfdc',\n",
       " 'beb8660c',\n",
       " '0d3d703e',\n",
       " 'b9b7f026',\n",
       " 'f35d900a',\n",
       " 'fcb5c309',\n",
       " 'b527c5c6',\n",
       " '6ecd11f4',\n",
       " '5bd6f4ac',\n",
       " '272f95fa',\n",
       " '4612dd53',\n",
       " 'e5062a87',\n",
       " '06df4c85',\n",
       " '694f12f3',\n",
       " '41e4d17e',\n",
       " 'c444b776',\n",
       " 'a79310a0',\n",
       " '1bfc4729',\n",
       " 'e509e548',\n",
       " '53b68214',\n",
       " 'd687bc17',\n",
       " 'e73095fd',\n",
       " '496994bd',\n",
       " 'f2829549',\n",
       " 'f15e1fac',\n",
       " 'aabf363d',\n",
       " '8d5021e8',\n",
       " '3345333e',\n",
       " '8a004b2b',\n",
       " 'b6afb2da',\n",
       " '045e512c',\n",
       " '673ef223',\n",
       " '88a62173',\n",
       " '99fa7670',\n",
       " '11852cab',\n",
       " 'bbc9ae5d',\n",
       " '444801d8',\n",
       " '995c5fa3',\n",
       " '9d9215db',\n",
       " 'f8a8fe49',\n",
       " '3631a71a',\n",
       " '9172f3a0',\n",
       " '3f7978a0',\n",
       " '0962bcdd',\n",
       " '2204b7a8',\n",
       " 'b782dc8a',\n",
       " '9af7a82c',\n",
       " '31aa019c',\n",
       " '0e206a2e',\n",
       " '7c008303',\n",
       " '00d62c1b',\n",
       " 'd4f3cd78',\n",
       " '8e5a5113',\n",
       " '44d8ac46',\n",
       " '23b5c85d',\n",
       " '29ec7d0e',\n",
       " 'd9f24cd1',\n",
       " 'f25fbde4',\n",
       " '137eaa0f',\n",
       " 'e26a3af2',\n",
       " '57aa92db',\n",
       " '9aec4887',\n",
       " '2bcee788',\n",
       " 'e40b9e2f',\n",
       " '46f33fce',\n",
       " 'a64e4611',\n",
       " '22168020',\n",
       " '228f6490',\n",
       " '7b7f7511',\n",
       " '8be77c9e',\n",
       " 'dae9d2b5',\n",
       " '2bee17df',\n",
       " '98cf29f8']"
      ]
     },
     "execution_count": 8,
     "metadata": {},
     "output_type": "execute_result"
    }
   ],
   "source": [
    "tr_ids"
   ]
  },
  {
   "cell_type": "code",
   "execution_count": 24,
   "id": "416d6019-3576-4cdd-914a-2aeaca6b0dad",
   "metadata": {
    "tags": []
   },
   "outputs": [],
   "source": [
    "tr_file_2024 = '2024/arc-agi_training_challenges.json'"
   ]
  },
  {
   "cell_type": "code",
   "execution_count": 22,
   "id": "04ad4158-28f8-4c9b-9562-23318f13d3fd",
   "metadata": {
    "tags": []
   },
   "outputs": [
    {
     "name": "stdout",
     "output_type": "stream",
     "text": [
      "2024/arc-agi_training_challenges.json\n"
     ]
    }
   ],
   "source": [
    "! ls 2024/arc-agi_training_challenges.json"
   ]
  },
  {
   "cell_type": "code",
   "execution_count": 25,
   "id": "2b013303-f058-4b79-a4ad-ec39819c3a8c",
   "metadata": {
    "tags": []
   },
   "outputs": [],
   "source": [
    "with open(tr_file_2024, 'r', encoding='utf-8') as f:\n",
    "    data = json.load(f)"
   ]
  },
  {
   "cell_type": "code",
   "execution_count": 29,
   "id": "05cf63f3-3694-4c47-8ca9-e69995ddc738",
   "metadata": {
    "tags": []
   },
   "outputs": [],
   "source": [
    "tr = list(data.keys())"
   ]
  },
  {
   "cell_type": "code",
   "execution_count": 30,
   "id": "dd26af88-c33f-4e21-b963-7e1ab49750e5",
   "metadata": {
    "tags": []
   },
   "outputs": [
    {
     "data": {
      "text/plain": [
       "400"
      ]
     },
     "execution_count": 30,
     "metadata": {},
     "output_type": "execute_result"
    }
   ],
   "source": [
    "len(tr)"
   ]
  },
  {
   "cell_type": "code",
   "execution_count": 32,
   "id": "ef141cc1-d105-4c50-bd83-b53a265c1b79",
   "metadata": {
    "tags": []
   },
   "outputs": [
    {
     "data": {
      "text/plain": [
       "['007bbfb7', '00d62c1b', '017c7c7b']"
      ]
     },
     "execution_count": 32,
     "metadata": {},
     "output_type": "execute_result"
    }
   ],
   "source": [
    "tr[:3]"
   ]
  },
  {
   "cell_type": "code",
   "execution_count": 33,
   "id": "d389b1c1-1ed0-45fa-abc5-5a8923ce1171",
   "metadata": {
    "tags": []
   },
   "outputs": [
    {
     "data": {
      "text/plain": [
       "['a85d4709', 'c8cbb738', '8e1813be']"
      ]
     },
     "execution_count": 33,
     "metadata": {},
     "output_type": "execute_result"
    }
   ],
   "source": [
    "tr_ids[:3]"
   ]
  },
  {
   "cell_type": "code",
   "execution_count": 35,
   "id": "eafc3570-b028-44c1-a195-de8d49ab4643",
   "metadata": {
    "tags": []
   },
   "outputs": [],
   "source": [
    "s2020 = set(tr_ids)\n",
    "s2024 = set(tr)"
   ]
  },
  {
   "cell_type": "code",
   "execution_count": 37,
   "id": "7365442b-aab0-441a-a7d0-b678d945e64c",
   "metadata": {
    "tags": []
   },
   "outputs": [
    {
     "data": {
      "text/plain": [
       "True"
      ]
     },
     "execution_count": 37,
     "metadata": {},
     "output_type": "execute_result"
    }
   ],
   "source": [
    "s2020 == s2024"
   ]
  },
  {
   "cell_type": "code",
   "execution_count": null,
   "id": "a25ca2ce-2c3e-4450-90a1-82ce53674216",
   "metadata": {},
   "outputs": [],
   "source": []
  }
 ],
 "metadata": {
  "kernelspec": {
   "display_name": "Python 3 (ipykernel)",
   "language": "python",
   "name": "python3"
  },
  "language_info": {
   "codemirror_mode": {
    "name": "ipython",
    "version": 3
   },
   "file_extension": ".py",
   "mimetype": "text/x-python",
   "name": "python",
   "nbconvert_exporter": "python",
   "pygments_lexer": "ipython3",
   "version": "3.11.4"
  }
 },
 "nbformat": 4,
 "nbformat_minor": 5
}
